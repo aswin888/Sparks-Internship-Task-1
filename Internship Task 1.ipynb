{
 "cells": [
  {
   "cell_type": "markdown",
   "id": "51067490",
   "metadata": {},
   "source": [
    "<h2><u>GRADUATE ROTATIONAL INTERNSHIP PROGRAM @ SPARKS FOUNDATION</u></h2>\n",
    "<h4><i>Author: Aswin Sankar P D</i></h4>\n",
    "<br>\n",
    "Predict the percentage of an student based on the no. of study hours."
   ]
  },
  {
   "cell_type": "markdown",
   "id": "f79d07dd",
   "metadata": {},
   "source": [
    "<h4>Task 1: Prediction using supervised machine learning<h5>"
   ]
  },
  {
   "cell_type": "markdown",
   "id": "53961b2c",
   "metadata": {},
   "source": [
    "<h5><i>1. Importing required packages and converting the data into a dataframe</i></h5>"
   ]
  },
  {
   "cell_type": "code",
   "execution_count": 43,
   "id": "11568ee6",
   "metadata": {},
   "outputs": [],
   "source": [
    "import pandas as pd\n",
    "import sklearn\n",
    "df = pd.read_csv('student_scores - student_scores.csv')\n",
    "X = df[\"Hours\"].to_list()\n",
    "y = df['Scores'].to_list()\n"
   ]
  },
  {
   "cell_type": "markdown",
   "id": "1a920baa",
   "metadata": {},
   "source": [
    "<h5><i>2.Importing sklearn and dividing the dataset into test and train sets</i></h5>\n",
    "<ul><li><p><small>The test size is considered to be 0.1</small></p></ul></li>"
   ]
  },
  {
   "cell_type": "code",
   "execution_count": 32,
   "id": "77cedd28",
   "metadata": {},
   "outputs": [],
   "source": [
    "from sklearn.model_selection import train_test_split  \n",
    "X_train, X_test, y_train, y_test = train_test_split(X, y, test_size=0.1, random_state=0)"
   ]
  },
  {
   "cell_type": "markdown",
   "id": "7188880b",
   "metadata": {},
   "source": [
    "<h5><i>3.Plot between marks and hours to get insights</i></h5>"
   ]
  },
  {
   "cell_type": "code",
   "execution_count": 33,
   "id": "26351311",
   "metadata": {},
   "outputs": [
    {
     "data": {
      "image/png": "[encoded data removed]",
      "text/plain": [
       "<Figure size 432x288 with 1 Axes>"
      ]
     },
     "metadata": {
      "needs_background": "light"
     },
     "output_type": "display_data"
    }
   ],
   "source": [
    "import matplotlib.pyplot as plt\n",
    "plt.scatter(X,y)\n",
    "plt.title(\"Marks vs Hours\")\n",
    "plt.xlabel(\"Hours\")\n",
    "plt.ylabel(\"Marks\")\n",
    "plt.show()"
   ]
  },
  {
   "cell_type": "markdown",
   "id": "22fc5d0e",
   "metadata": {},
   "source": [
    "<h5><i>4.Reshaping the model and fitting it into the linear regression model, then training</i></h5>"
   ]
  },
  {
   "cell_type": "code",
   "execution_count": 34,
   "id": "20b3cb18",
   "metadata": {},
   "outputs": [],
   "source": [
    "X_TRAIN = []\n",
    "for i in X_train:\n",
    "    X_TRAIN.append([i])"
   ]
  },
  {
   "cell_type": "code",
   "execution_count": 35,
   "id": "dc828816",
   "metadata": {},
   "outputs": [
    {
     "data": {
      "text/plain": [
       "LinearRegression()"
      ]
     },
     "execution_count": 35,
     "metadata": {},
     "output_type": "execute_result"
    }
   ],
   "source": [
    "from sklearn.linear_model import LinearRegression\n",
    "reg = LinearRegression()\n",
    "reg.fit(X_TRAIN,y_train)"
   ]
  },
  {
   "cell_type": "code",
   "execution_count": 36,
   "id": "3564a032",
   "metadata": {},
   "outputs": [
    {
     "data": {
      "image/png": "[encoded data removed]",
      "text/plain": [
       "<Figure size 432x288 with 1 Axes>"
      ]
     },
     "metadata": {
      "needs_background": "light"
     },
     "output_type": "display_data"
    }
   ],
   "source": [
    "#Drawing the best fit line\n",
    "eq = reg.coef_*X+reg.intercept_\n",
    "plt.scatter(X,y,color=\"indigo\",label=\"points\")\n",
    "plt.plot(X,eq,color=\"red\",label=\"best-fit\")\n",
    "leg=plt.legend()\n",
    "plt.xlabel('Hours')\n",
    "plt.ylabel('Marks')\n",
    "plt.show()"
   ]
  },
  {
   "cell_type": "markdown",
   "id": "5d361e49",
   "metadata": {},
   "source": [
    "<h5><i>5.Reshaping the test matrix and predicting the values</i></h5>"
   ]
  },
  {
   "cell_type": "code",
   "execution_count": 37,
   "id": "a2dce125",
   "metadata": {},
   "outputs": [],
   "source": [
    "X_TEST=[]\n",
    "for i in X_test:\n",
    "    X_TEST.append([i])"
   ]
  },
  {
   "cell_type": "code",
   "execution_count": 38,
   "id": "eb3b1df2",
   "metadata": {},
   "outputs": [],
   "source": [
    "prediction = reg.predict(X_TEST)"
   ]
  },
  {
   "cell_type": "code",
   "execution_count": 39,
   "id": "22992e09",
   "metadata": {},
   "outputs": [
    {
     "name": "stdout",
     "output_type": "stream",
     "text": [
      "[20, 27, 69]\n",
      "[17.30220982 34.05529402 75.44526674]\n"
     ]
    }
   ],
   "source": [
    "print(y_test)\n",
    "print(prediction)"
   ]
  },
  {
   "cell_type": "markdown",
   "id": "98d6efa6",
   "metadata": {},
   "source": [
    "<h5><i>6.Side by Side graphical and numerical comparsion to analyse the accuracy</i></h5>"
   ]
  },
  {
   "cell_type": "code",
   "execution_count": 40,
   "id": "7f89eb66",
   "metadata": {},
   "outputs": [
    {
     "data": {
      "text/html": [
       "<div>\n",
       "<style scoped>\n",
       "    .dataframe tbody tr th:only-of-type {\n",
       "        vertical-align: middle;\n",
       "    }\n",
       "\n",
       "    .dataframe tbody tr th {\n",
       "        vertical-align: top;\n",
       "    }\n",
       "\n",
       "    .dataframe thead th {\n",
       "        text-align: right;\n",
       "    }\n",
       "</style>\n",
       "<table border=\"1\" class=\"dataframe\">\n",
       "  <thead>\n",
       "    <tr style=\"text-align: right;\">\n",
       "      <th></th>\n",
       "      <th>The predicted value</th>\n",
       "      <th>The actual value</th>\n",
       "    </tr>\n",
       "  </thead>\n",
       "  <tbody>\n",
       "    <tr>\n",
       "      <th>0</th>\n",
       "      <td>17.302210</td>\n",
       "      <td>20</td>\n",
       "    </tr>\n",
       "    <tr>\n",
       "      <th>1</th>\n",
       "      <td>34.055294</td>\n",
       "      <td>27</td>\n",
       "    </tr>\n",
       "    <tr>\n",
       "      <th>2</th>\n",
       "      <td>75.445267</td>\n",
       "      <td>69</td>\n",
       "    </tr>\n",
       "  </tbody>\n",
       "</table>\n",
       "</div>"
      ],
      "text/plain": [
       "   The predicted value  The actual value\n",
       "0            17.302210                20\n",
       "1            34.055294                27\n",
       "2            75.445267                69"
      ]
     },
     "execution_count": 40,
     "metadata": {},
     "output_type": "execute_result"
    }
   ],
   "source": [
    "dct = {\"The predicted value\":prediction,\"The actual value\":y_test}\n",
    "DF = pd.DataFrame(dct)\n",
    "DF"
   ]
  },
  {
   "cell_type": "code",
   "execution_count": 41,
   "id": "bced86fa",
   "metadata": {},
   "outputs": [
    {
     "data": {
      "image/png": "[encoded data removed]",
      "text/plain": [
       "<Figure size 432x288 with 1 Axes>"
      ]
     },
     "metadata": {
      "needs_background": "light"
     },
     "output_type": "display_data"
    }
   ],
   "source": [
    "plt.plot(X_test,y_test,label=\"test\")\n",
    "plt.plot(X_test,prediction,color=\"red\",label=\"predict\")\n",
    "plt.xlabel(\"X\")\n",
    "plt.ylabel(\"Y\")\n",
    "leg=plt.legend()\n",
    "plt.show()"
   ]
  },
  {
   "cell_type": "markdown",
   "id": "c0845cd8",
   "metadata": {},
   "source": [
    "<h5><i>7.Predicted output for 9.25 hours</i></h5>"
   ]
  },
  {
   "cell_type": "code",
   "execution_count": 42,
   "id": "ada61bf5",
   "metadata": {},
   "outputs": [
    {
     "data": {
      "text/plain": [
       "array([93.67656425])"
      ]
     },
     "execution_count": 42,
     "metadata": {},
     "output_type": "execute_result"
    }
   ],
   "source": [
    "reg.predict([[9.25]])"
   ]
  }
 ],
 "metadata": {
  "kernelspec": {
   "display_name": "Python 3",
   "language": "python",
   "name": "python3"
  },
  "language_info": {
   "codemirror_mode": {
    "name": "ipython",
    "version": 3
   },
   "file_extension": ".py",
   "mimetype": "text/x-python",
   "name": "python",
   "nbconvert_exporter": "python",
   "pygments_lexer": "ipython3",
   "version": "3.8.8"
  }
 },
 "nbformat": 4,
 "nbformat_minor": 5
}
